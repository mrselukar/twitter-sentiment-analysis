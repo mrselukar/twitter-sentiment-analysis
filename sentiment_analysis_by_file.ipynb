{
 "cells": [
  {
   "cell_type": "code",
   "execution_count": 21,
   "metadata": {},
   "outputs": [],
   "source": [
    "import re\n",
    "import tweepy\n",
    "from tweepy import OAuthHandler\n",
    "from textblob import TextBlob\n",
    "import csv\n",
    "from nltk.corpus import stopwords\n",
    "import string\n",
    "import operator\n",
    "import json\n",
    "from collections import Counter\n",
    "from collections import defaultdict\n",
    "import math\n",
    "import random"
   ]
  },
  {
   "cell_type": "code",
   "execution_count": 2,
   "metadata": {
    "collapsed": true
   },
   "outputs": [],
   "source": [
    "positive_vocab = [':)', ':-)']\n",
    "negative_vocab = [':(', ':-(']\n",
    "pos_file = \"./positive-words.txt\"\n",
    "neg_file = \"./negative-words.txt\"\n",
    "# stop contains all the stopwords in the english language\n",
    "punctuation = list(string.punctuation)\n",
    "stop = stopwords.words('english') + punctuation + ['rt', \n",
    "            'via','RT','the','The',\"This\",'this','for','if']"
   ]
  },
  {
   "cell_type": "code",
   "execution_count": 3,
   "metadata": {
    "collapsed": true
   },
   "outputs": [],
   "source": [
    "# Global Variables\n",
    "no_tweets = 0\n",
    "# Counter of all single words\n",
    "count_all = Counter()\n",
    "# Counter for all bigrams Co-occurence Matrix\n",
    "\"\"\"\n",
    " co-occurrence matrix com such that com[x][y]\n",
    " contains the number of times the term x has been\n",
    " seen in the same tweet as the term y:\n",
    "\"\"\"\n",
    "# creates a default dict with all possible keys with values (int)0\n",
    "com = defaultdict(lambda : defaultdict(int))"
   ]
  },
  {
   "cell_type": "code",
   "execution_count": 25,
   "metadata": {
    "collapsed": true
   },
   "outputs": [],
   "source": [
    "#Enter File path here\n",
    "fname = \"./python.json\""
   ]
  },
  {
   "cell_type": "code",
   "execution_count": 26,
   "metadata": {
    "collapsed": true
   },
   "outputs": [],
   "source": [
    "with open(pos_file,\"r\",encoding = \"ISO-8859-1\") as f_in:\n",
    "    reader = csv.reader(f_in)\n",
    "    for word in reader:\n",
    "        positive_vocab.append(word[0])\n",
    "with open(neg_file,\"r\",encoding = \"ISO-8859-1\") as file:\n",
    "    reader = csv.reader(file)\n",
    "    for word in reader:\n",
    "        negative_vocab.append(word[0])"
   ]
  },
  {
   "cell_type": "code",
   "execution_count": 27,
   "metadata": {
    "collapsed": true
   },
   "outputs": [],
   "source": [
    " def clean_tweet(tweet):\n",
    "        '''\n",
    "        Utility function to clean tweet text by removing links, special characters\n",
    "        using simple regex statements.\n",
    "        '''\n",
    "        return ' '.join(re.sub(\"(@[A-Za-z0-9]+)|([^0-9A-Za-z \\t])|(\\w+:\\/\\/\\S+)\", \" \", tweet).split())"
   ]
  },
  {
   "cell_type": "code",
   "execution_count": 28,
   "metadata": {
    "collapsed": true
   },
   "outputs": [],
   "source": [
    "def get_keywords(tweet):\n",
    "        \"\"\"\n",
    "        Utility function to get the keywords for calculating sentiment of tweet\n",
    "        It Cleans the tweet and tokenizes before returning it\n",
    "        \"\"\"\n",
    "        c_tweet = clean_tweet(tweet)\n",
    "        terms = c_tweet.split(\" \")\n",
    "        tokens = [term for term in terms \n",
    "                  if term not in stop and len(term) > 2]\n",
    "        return tokens"
   ]
  },
  {
   "cell_type": "code",
   "execution_count": 29,
   "metadata": {
    "collapsed": true
   },
   "outputs": [],
   "source": [
    "def get_tweet_sentiment_text_blob(tweet):\n",
    "    '''\n",
    "    Utility function to classify sentiment of passed tweet\n",
    "    using textblob's sentiment method\n",
    "    '''\n",
    "    # create TextBlob object of passed tweet text\n",
    "    analysis = TextBlob(clean_tweet(tweet))\n",
    "    # set sentiment\n",
    "    if analysis.sentiment.polarity > 0:\n",
    "        return 'positive'\n",
    "    elif analysis.sentiment.polarity == 0:\n",
    "        return 'neutral'\n",
    "    else:\n",
    "        return 'negative'"
   ]
  },
  {
   "cell_type": "code",
   "execution_count": 30,
   "metadata": {
    "collapsed": true
   },
   "outputs": [],
   "source": [
    "def update_counters(tweet):\n",
    "        # Create a list with all the terms\n",
    "        tokens = get_keywords(tweet)\n",
    "        #updating count_all\n",
    "        count_all.update(tokens)\n",
    "        # updating Concurrency matrix\n",
    "        for i in range(len(tokens)-1):            \n",
    "            for j in range(i+1, len(tokens)):\n",
    "                # so that a,b and b,a are both considered same\n",
    "                w1, w2 = sorted([tokens[i], tokens[j]])                \n",
    "                if w1 != w2:\n",
    "                    com[w1][w2] += 1"
   ]
  },
  {
   "cell_type": "code",
   "execution_count": 31,
   "metadata": {},
   "outputs": [
    {
     "name": "stdout",
     "output_type": "stream",
     "text": [
      "The total no of tweets are 6412\n"
     ]
    }
   ],
   "source": [
    "with open(fname, 'r') as f:\n",
    "    for line in f:\n",
    "        try:\n",
    "            tweet = json.loads(line)\n",
    "            no_tweets += 1\n",
    "            update_counters(tweet['text'])\n",
    "        except:\n",
    "            #print (\"Error on {}\".format(no_tweets))\n",
    "            continue\n",
    "    # Print the first 5 most frequent words\n",
    "    print (\"The total no of tweets are {}\".format(no_tweets))"
   ]
  },
  {
   "cell_type": "code",
   "execution_count": 32,
   "metadata": {
    "collapsed": true
   },
   "outputs": [],
   "source": [
    "n_docs = no_tweets"
   ]
  },
  {
   "cell_type": "code",
   "execution_count": 33,
   "metadata": {
    "collapsed": true
   },
   "outputs": [],
   "source": [
    "com_max = []\n",
    "# For each term, look for the most common co-occurrent terms\n",
    "for t1 in com:\n",
    "    # .items() methord on dictonary returns (key,value) tuples here (t2,no_of_occurences)\n",
    "    # we are sorting the tuples received by the term t2 using operator.\n",
    "    t1_max_terms = sorted(com[t1].items(), key=operator.itemgetter(1), reverse=True)[:5]\n",
    "    for t2, t2_count in t1_max_terms:\n",
    "        com_max.append(((t1, t2), t2_count))\n",
    "# Get the most frequent co-occurrences\n",
    "#terms_max = sorted(com_max, key=operator.itemgetter(1), reverse=True)\n",
    "#print(terms_max[:5])"
   ]
  },
  {
   "cell_type": "code",
   "execution_count": 34,
   "metadata": {
    "collapsed": true
   },
   "outputs": [],
   "source": [
    "# n_docs is the total n. of tweets\n",
    "p_t = {}\n",
    "p_t_com = defaultdict(lambda : defaultdict(int))\n",
    " \n",
    "for term, n in count_all.items():\n",
    "    #couting probablities of single terms\n",
    "    p_t[term] = n / n_docs\n",
    "    # counting probablities of tow terms together\n",
    "    for t2 in com[term]:\n",
    "        p_t_com[term][t2] = com[term][t2] / n_docs\n"
   ]
  },
  {
   "cell_type": "code",
   "execution_count": 35,
   "metadata": {
    "collapsed": true
   },
   "outputs": [],
   "source": [
    "pmi = defaultdict(lambda : defaultdict(int))\n",
    "for t1 in p_t:\n",
    "    for t2 in com[t1]:\n",
    "        denom = p_t[t1] * p_t[t2]\n",
    "        pmi[t1][t2] = math.log2(p_t_com[t1][t2] / denom) \n",
    "semantic_orientation = {}\n",
    "for term, n in p_t.items():\n",
    "    positive_assoc = sum(pmi[term][tx] for tx in positive_vocab)\n",
    "    negative_assoc = sum(pmi[term][tx] for tx in negative_vocab)\n",
    "    semantic_orientation[term] = positive_assoc - negative_assoc"
   ]
  },
  {
   "cell_type": "code",
   "execution_count": 36,
   "metadata": {
    "collapsed": true
   },
   "outputs": [],
   "source": [
    "# Test Block\n",
    "semantic_sorted = sorted(semantic_orientation.items(), \n",
    "                         key=operator.itemgetter(1), \n",
    "                         reverse=True)"
   ]
  },
  {
   "cell_type": "code",
   "execution_count": 37,
   "metadata": {
    "collapsed": true
   },
   "outputs": [],
   "source": [
    "def get_tweet_sentiment(tweet):\n",
    "        terms_stop = get_keywords(tweet)\n",
    "        analysis = 0\n",
    "        for term in terms_stop:\n",
    "            analysis += semantic_orientation[term]\n",
    "        # set sentiment\n",
    "        if analysis > 2:\n",
    "            return 'positive'\n",
    "        elif analysis < -2:\n",
    "            return 'negative'\n",
    "        else:\n",
    "            return 'netural'\n",
    "        return 'neutral'"
   ]
  },
  {
   "cell_type": "code",
   "execution_count": 38,
   "metadata": {},
   "outputs": [],
   "source": [
    "tweets = []\n",
    "with open(fname, 'r') as f:\n",
    "    for line in f:\n",
    "        try:\n",
    "            tweet = json.loads(line)\n",
    "           \n",
    "            parsed_tweet = {}\n",
    "            # saving text of tweet\n",
    "            parsed_tweet['text'] = tweet['text']\n",
    "            # saving sentiment of tweet\n",
    "            parsed_tweet['sentiment'] = get_tweet_sentiment(tweet['text'])\n",
    "            parsed_tweet['sentiment_blob'] = get_tweet_sentiment_text_blob(tweet['text'])\n",
    "            # appending parsed tweet to tweets list\n",
    "            if parsed_tweet not in tweets:\n",
    "                tweets.append(parsed_tweet)\n",
    "        except Exception as e :\n",
    "            print (\"Exception {}\".format(e))\n",
    "            continue\n",
    "   "
   ]
  },
  {
   "cell_type": "markdown",
   "metadata": {},
   "source": [
    "made the printing of the tweets random so as the output changes every time"
   ]
  },
  {
   "cell_type": "code",
   "execution_count": 39,
   "metadata": {},
   "outputs": [
    {
     "name": "stdout",
     "output_type": "stream",
     "text": [
      "320\n",
      "Positive tweets percentage: 85.3125 %\n",
      "Negative tweets percentage: 7.5 %\n",
      "Neutral tweets percentage: 7.1875 %     \n",
      "\n",
      "\n",
      "Positive tweets:\n",
      "#allwhiteparty #2018 yanna_j13 ❤👈 @ Austin, Texas https://t.co/ZkLLjwaXNk\n",
      "RT @redsfer28: all the best to @Loren_Minardi for her #scene which realeses for @Brazzers #debut #girl #ZZrequest  for more new scenes thro…\n",
      "RT @idevadhikari: Dosti revived...#2018 😉\n",
      "@aniruddhatony @DEV_PvtLtd https://t.co/HxzYnBmvKy\n",
      "All presenters are confirmed for #SoulfulSummit #2018! Join us on this #transformation and… https://t.co/xQTZnamLyJ\n",
      "Thanks @alancommittie for a killer season at TOTB! And for setting the perfect tone to #2018! @Monte_Theatre you're… https://t.co/dJU3KYaqLP\n",
      "urbselect: sheen magazine - Baecations for Valentine’s Day http://45.33.5.89/sheen-magazine/2018/baecations-for-val… https://t.co/2DxlXdnLgP\n",
      "RT @Actionjackson: Mood : #2018 ✨ https://t.co/yJvZiWBPAO\n",
      "#Everything The Spirit Of The LORD Has FOR You Will Be Obtained, Released And Manifested In #2018. If You Have Felt… https://t.co/mD0DDJ4SH6\n",
      "@ethgreen_crypto #Airdrop of #2018! Join now! https://t.co/wPnAdzlHew\n",
      "RT @shiningnovembre: 180113\n",
      "#2018평창_동계올림픽_성화봉송 #파워의끝에서_파워가시작된다 #성화봉송 #코카콜라 #파워에이드 #빅스 #레오 #정택운 #택운 #더라스트키스 #택돌프\n",
      "아무리 봐도 성화봉송하러 가는게 아니라 영화촬영장…\n",
      "\n",
      "\n",
      "Negative tweets:\n",
      "RT @howardfineman: I know @Iowa and Iowans. Even conservative #Republicans voters there, and in similar states, at some point — i.e. now —…\n",
      "Y así quedó la competencia camino al @naiasdetroit \n",
      "Esperemos que los tres grandes nos sorprendan en su auto show d… https://t.co/zbZAVBF7fQ\n",
      "Y así quedó la competencia camino al @naiasdetroit \n",
      "Esperemos que los tres grandes nos sorprendan en su auto show d… https://t.co/zbZAVBF7fQ\n",
      "#2019 is so far away #2018 already sucks\n",
      "Cada dia agradecemos, por las noches que se vuelven mañanas, por los amigos que se volvieron familia, por los sueño… https://t.co/1kkONJGWn3\n",
      "RT @ThePeoplesDZNR: Everybody dies - J Cole #freestyle \n",
      "Its aight😕\n",
      "\n",
      "#jcole #everybodydies #everybodydiesintheirnightmares #everybody #dies…\n",
      "RT @huionkor: 🎀[RT 리트윗 이벤트(~1/28)]🎀\n",
      "\n",
      "2017 하반기 다나와 히트브랜드!\n",
      "타블렛 부문 HUION 선정 기념!\n",
      "\n",
      "리트윗 하신 분들 중 추첨을 통해\n",
      "휴이온 그래픽 타블렛 H640P를 드립니다.\n",
      "\n",
      "#1등에가까워지고있어 #201…\n",
      "RT @PastorAdekunlek: Because you are broke doesn't mean you are poor!  \n",
      "Keep saying it \n",
      "I can never be poor! \n",
      "I can never be poor! \n",
      "I can n…\n",
      "Make that shit happen, shock everyone that slept on you #2018✨\n",
      "RT @mariobautista_: Planeando todo este 2018 y estoy fucking emocionado!!!! 💡\n",
      "\n",
      "Se vienen cosas muy duras y muy buenas ⚡️🙏🏻⚡️\n",
      "\n",
      "#2018 🧠✨🔝\n"
     ]
    }
   ],
   "source": [
    "ptweets = []\n",
    "ntweets = []\n",
    "print (len(tweets))\n",
    "for tweet in tweets:\n",
    "    if tweet['sentiment'] == 'positive':\n",
    "        ptweets.append(tweet)\n",
    "    elif tweet['sentiment'] == 'negative':\n",
    "            ntweets.append(tweet)\n",
    "# percentage of positive tweets\n",
    "print(\"Positive tweets percentage: {} %\".format(100*len(ptweets)/len(tweets)))\n",
    "# picking negative tweets from tweets\n",
    "#ntweets = [tweet for tweet in tweets if tweet['sentiment'] == 'negative']\n",
    "# percentage of negative tweets\n",
    "print(\"Negative tweets percentage: {} %\".format(100*len(ntweets)/len(tweets)))\n",
    "# percentage of neutral tweets\n",
    "print(\"Neutral tweets percentage: {} % \\\n",
    "    \".format(100*(len(tweets) - len(ntweets) - len(ptweets))/len(tweets)))\n",
    " \n",
    "# printing first 5 positive tweets\n",
    "print(\"\\n\\nPositive tweets:\")\n",
    "for i in range(10):\n",
    "    tweet = random.choice(ptweets)\n",
    "    print(tweet['text'])\n",
    "# printing first 5 negative tweets\n",
    "print(\"\\n\\nNegative tweets:\")\n",
    "for i in range(10):\n",
    "    tweet = random.choice(ntweets)\n",
    "    print(tweet['text'])"
   ]
  },
  {
   "cell_type": "code",
   "execution_count": 40,
   "metadata": {},
   "outputs": [
    {
     "data": {
      "image/png": "[encoded data removed]",
      "text/plain": [
       "<matplotlib.figure.Figure at 0x1f5a66aa400>"
      ]
     },
     "metadata": {},
     "output_type": "display_data"
    }
   ],
   "source": [
    "import matplotlib.pyplot as plt\n",
    " \n",
    "# Data to plot\n",
    "labels = 'Positive', 'Negative', 'Netural'\n",
    "sizes = [100*len(ptweets)/len(tweets), 100*len(ntweets)/len(tweets),100*(len(tweets) - len(ntweets) - len(ptweets))/len(tweets) ]\n",
    "colors = ['green', 'blue', 'red']\n",
    "explode = (0.1, 0, 0)  # explode 1st slice\n",
    " \n",
    "# Plot\n",
    "plt.pie(sizes, explode=explode, labels=labels, colors=colors,\n",
    "        autopct='%1.1f%%', shadow=True, startangle=140)\n",
    "plt.legend() \n",
    "plt.title(\"Sentiment Analysis Results\")\n",
    "plt.axis('equal')\n",
    "plt.show()\n"
   ]
  },
  {
   "cell_type": "code",
   "execution_count": null,
   "metadata": {
    "collapsed": true
   },
   "outputs": [],
   "source": []
  },
  {
   "cell_type": "code",
   "execution_count": null,
   "metadata": {
    "collapsed": true
   },
   "outputs": [],
   "source": []
  }
 ],
 "metadata": {
  "kernelspec": {
   "display_name": "Python 3",
   "language": "python",
   "name": "python3"
  },
  "language_info": {
   "codemirror_mode": {
    "name": "ipython",
    "version": 3
   },
   "file_extension": ".py",
   "mimetype": "text/x-python",
   "name": "python",
   "nbconvert_exporter": "python",
   "pygments_lexer": "ipython3",
   "version": "3.6.3"
  }
 },
 "nbformat": 4,
 "nbformat_minor": 2
}
